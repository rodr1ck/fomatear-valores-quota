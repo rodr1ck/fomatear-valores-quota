{
  "cells": [
    {
      "cell_type": "markdown",
      "metadata": {
        "id": "xpaoHoIktvrH"
      },
      "source": [
        "#**Cuotas AFP Hábitat desde 2002 hasta 2024**"
      ]
    },
    {
      "cell_type": "code",
      "execution_count": 28,
      "metadata": {
        "id": "tZde4dWW8oGc"
      },
      "outputs": [],
      "source": [
        "import pandas as pd"
      ]
    },
    {
      "cell_type": "markdown",
      "metadata": {
        "id": "PNMBTfE4Ghhy"
      },
      "source": [
        "##Valores de cuota para el año 2002"
      ]
    },
    {
      "cell_type": "code",
      "execution_count": 29,
      "metadata": {
        "colab": {
          "base_uri": "https://localhost:8080/"
        },
        "id": "i6PDeDUe8vqP",
        "outputId": "1f2d8db4-4947-477c-d679-c5c3d2bd3de4"
      },
      "outputs": [
        {
          "name": "stdout",
          "output_type": "stream",
          "text": [
            "          Fecha      Cuota\n",
            "1    2002-08-01  10.000,00\n",
            "2    2002-08-02  10.000,00\n",
            "3    2002-08-03  10.000,00\n",
            "4    2002-08-04  10.000,00\n",
            "5    2002-08-05  10.000,00\n",
            "..          ...        ...\n",
            "148  2002-12-26  10.189,40\n",
            "149  2002-12-27  10.208,77\n",
            "150  2002-12-28  10.208,77\n",
            "151  2002-12-29  10.208,77\n",
            "152  2002-12-30  10.210,26\n",
            "\n",
            "[152 rows x 2 columns]\n"
          ]
        }
      ],
      "source": [
        "# Especifica el rango de filas a leer\n",
        "start_row = 4\n",
        "end_row = 157\n",
        "num_rows = end_row - start_row\n",
        "\n",
        "# Lee el archivo CSV desde la línea 3 hasta la línea 157\n",
        "Cuota_2002 = pd.read_csv('vcfA2002-2024.csv', sep = \";\",  decimal = \",\", skiprows=start_row - 1, nrows=num_rows)\n",
        "Cuota_2002 = Cuota_2002.reset_index()      #Fecha está siendo considerada como un índice, por lo que debe volver a convertirse en una columna\n",
        "# print(Cuota_2002.head(5))             #Se corrieron todas las columnas a la derecha, por lo tanto el valor de la cuota de hábitat se encuentra en \"Unnamed: 2\"\n",
        "columnas_a_eliminar = ['Fecha', 'CUPRUM', 'HABITAT', 'Unnamed: 4', 'MAGISTER', 'Unnamed: 6', 'PLANVITAL', 'Unnamed: 8', 'PROVIDA', 'Unnamed: 10', 'SANTA MARIA', 'Unnamed: 12', 'SUMMA BANSANDER']\n",
        "Cuota_2002 = Cuota_2002.drop(columnas_a_eliminar, axis = 1)\n",
        "columnas = ['Fecha', 'Cuota']\n",
        "Cuota_2002.columns = columnas\n",
        "Cuota_2002 = Cuota_2002.drop(0)\n",
        "print(Cuota_2002)"
      ]
    },
    {
      "cell_type": "markdown",
      "metadata": {
        "id": "WANVevuRGlRS"
      },
      "source": [
        "##Valores de cuota para año 2003"
      ]
    },
    {
      "cell_type": "code",
      "execution_count": 30,
      "metadata": {
        "colab": {
          "base_uri": "https://localhost:8080/"
        },
        "id": "E5-LZV-QGrUm",
        "outputId": "2be9ca16-a182-425e-b293-2a9a843cf788"
      },
      "outputs": [
        {
          "name": "stdout",
          "output_type": "stream",
          "text": [
            "          Fecha      Cuota\n",
            "1    2003-01-01  10.169,90\n",
            "2    2003-01-02  10.209,25\n",
            "3    2003-01-03  10.213,08\n",
            "4    2003-01-04  10.213,08\n",
            "5    2003-01-05  10.213,08\n",
            "..          ...        ...\n",
            "361  2003-12-27  12.871,10\n",
            "362  2003-12-28  12.871,10\n",
            "363  2003-12-29  12.862,98\n",
            "364  2003-12-30  12.978,73\n",
            "365  2003-12-31  13.008,63\n",
            "\n",
            "[365 rows x 2 columns]\n"
          ]
        }
      ],
      "source": [
        "\n",
        "start_row = 162\n",
        "end_row = 528\n",
        "num_rows = end_row - start_row\n",
        "\n",
        "Cuota_2003 = pd.read_csv('vcfA2002-2024.csv', sep = \";\",  decimal = \",\", skiprows=start_row - 1, nrows=num_rows)\n",
        "Cuota_2003 = Cuota_2003.reset_index()      #Fecha está siendo considerada como un índice, por lo que debe volver a convertirse en una columna\n",
        "# print(Cuota_2003.head(5))             #Se corrieron todas las columnas a la derecha, por lo tanto el valor de la cuota de hábitat se encuentra en \"Unnamed: 2\"\n",
        "columnas_a_eliminar = ['Fecha', 'CUPRUM', 'HABITAT', 'Unnamed: 4', 'MAGISTER', 'Unnamed: 6', 'PLANVITAL', 'Unnamed: 8', 'PROVIDA', 'Unnamed: 10', 'SANTA MARIA', 'Unnamed: 12', 'SUMMA BANSANDER']\n",
        "Cuota_2003 = Cuota_2003.drop(columnas_a_eliminar, axis = 1)\n",
        "columnas = ['Fecha', 'Cuota']\n",
        "Cuota_2003.columns = columnas\n",
        "Cuota_2003 = Cuota_2003.drop(0)\n",
        "print(Cuota_2003)"
      ]
    },
    {
      "cell_type": "markdown",
      "metadata": {
        "id": "64JveGJ5ITuR"
      },
      "source": [
        "##Valores de cuota para año 2004"
      ]
    },
    {
      "cell_type": "code",
      "execution_count": 31,
      "metadata": {
        "colab": {
          "base_uri": "https://localhost:8080/"
        },
        "id": "G-Da4LMEIWsE",
        "outputId": "f6efd477-269c-432b-cd2b-bca335bd0d72"
      },
      "outputs": [
        {
          "name": "stdout",
          "output_type": "stream",
          "text": [
            "          Fecha      Cuota\n",
            "1    2004-01-01  13.008,63\n",
            "2    2004-01-02  12.995,38\n",
            "3    2004-01-03  12.995,38\n",
            "4    2004-01-04  12.995,38\n",
            "5    2004-01-05  12.986,33\n",
            "..          ...        ...\n",
            "302  2004-12-27  14.950,43\n",
            "303  2004-12-28  14.992,84\n",
            "304  2004-12-29  14.963,16\n",
            "305  2004-12-30  15.020,39\n",
            "306  2004-12-31  15.027,96\n",
            "\n",
            "[366 rows x 2 columns]\n"
          ]
        }
      ],
      "source": [
        "#Primera parte año 2004\n",
        "\n",
        "start_row = 532\n",
        "end_row = 593\n",
        "num_rows = end_row - start_row\n",
        "\n",
        "Cuota_2004_1 = pd.read_csv('vcfA2002-2024.csv', sep = \";\",  decimal = \",\", skiprows=start_row - 1, nrows=num_rows)\n",
        "Cuota_2004_1 = Cuota_2004_1.reset_index()      #Fecha está siendo considerada como un índice, por lo que debe volver a convertirse en una columna\n",
        "# print(Cuota_2004_1.head(5))             #Se corrieron todas las columnas a la derecha, por lo tanto el valor de la cuota de hábitat se encuentra en \"Unnamed: 2\"\n",
        "columnas_a_eliminar = ['Fecha', 'CUPRUM', 'HABITAT', 'Unnamed: 4', 'MAGISTER', 'Unnamed: 6', 'PLANVITAL', 'Unnamed: 8', 'PROVIDA', 'Unnamed: 10', 'SANTA MARIA', 'Unnamed: 12', 'SUMMA BANSANDER']\n",
        "Cuota_2004_1 = Cuota_2004_1.drop(columnas_a_eliminar, axis = 1)\n",
        "columnas = ['Fecha', 'Cuota']\n",
        "Cuota_2004_1.columns = columnas\n",
        "Cuota_2004_1 = Cuota_2004_1.drop(0)\n",
        "# print(Cuota_2004_1)\n",
        "\n",
        "#Segunda Parte año 2004\n",
        "\n",
        "start_row = 597\n",
        "end_row = 904\n",
        "num_rows = end_row - start_row\n",
        "\n",
        "Cuota_2004_2 = pd.read_csv('vcfA2002-2024.csv', sep = \";\",  decimal = \",\", skiprows=start_row - 1, nrows=num_rows)\n",
        "Cuota_2004_2 = Cuota_2004_2.reset_index()      #Fecha está siendo considerada como un índice, por lo que debe volver a convertirse en una columna\n",
        "# print(Cuota_2004_2.columns)             #Se corrieron todas las columnas a la derecha, por lo tanto el valor de la cuota de hábitat se encuentra en \"Unnamed: 2\"\n",
        "columnas_a_eliminar = ['Fecha', 'CUPRUM', 'HABITAT', 'Unnamed: 4','Unnamed: 6', 'PLANVITAL', 'Unnamed: 8', 'PROVIDA', 'Unnamed: 10', 'SANTA MARIA','SUMMA BANSANDER']\n",
        "Cuota_2004_2 = Cuota_2004_2.drop(columnas_a_eliminar, axis = 1)\n",
        "columnas = ['Fecha', 'Cuota']\n",
        "Cuota_2004_2.columns = columnas\n",
        "Cuota_2004_2 = Cuota_2004_2.drop(0)\n",
        "# print(Cuota_2004_2)\n",
        "\n",
        "Cuota_2004 = pd.concat([Cuota_2004_1, Cuota_2004_2], axis = 0)\n",
        "print(Cuota_2004)\n"
      ]
    },
    {
      "cell_type": "markdown",
      "metadata": {
        "id": "0BZgdv18w5bG"
      },
      "source": [
        "##Valores de cuotas para el año 2005"
      ]
    },
    {
      "cell_type": "code",
      "execution_count": 32,
      "metadata": {
        "colab": {
          "base_uri": "https://localhost:8080/"
        },
        "id": "XLiOSS8UxewQ",
        "outputId": "1400a3c6-2d5e-447d-9b71-b58fcaf1769c"
      },
      "outputs": [
        {
          "name": "stdout",
          "output_type": "stream",
          "text": [
            "          Fecha      Cuota\n",
            "1    2005-01-01  15.027,96\n",
            "2    2005-01-02  15.027,96\n",
            "3    2005-01-03  15.039,82\n",
            "4    2005-01-04  15.103,64\n",
            "5    2005-01-05  15.097,95\n",
            "..          ...        ...\n",
            "302  2005-12-27  17.174,22\n",
            "303  2005-12-28  17.177,61\n",
            "304  2005-12-29  17.157,66\n",
            "305  2005-12-30  17.154,79\n",
            "306  2005-12-31  17.154,79\n",
            "\n",
            "[365 rows x 2 columns]\n"
          ]
        }
      ],
      "source": [
        "#Parte 1 año 2005\n",
        "\n",
        "start_row = 908\n",
        "end_row = 968\n",
        "num_rows = end_row - start_row\n",
        "\n",
        "Cuota_2005_1 = pd.read_csv('vcfA2002-2024.csv', sep = \";\",  decimal = \",\", skiprows=start_row - 1, nrows=num_rows)\n",
        "Cuota_2005_1 = Cuota_2005_1.reset_index()      #Fecha está siendo considerada como un índice, por lo que debe volver a convertirse en una columna\n",
        "# print(Cuota_2005_1.columns)             #Se corrieron todas las columnas a la derecha, por lo tanto el valor de la cuota de hábitat se encuentra en \"Unnamed: 2\"\n",
        "columnas_a_eliminar = ['Fecha', 'CUPRUM', 'HABITAT', 'Unnamed: 4','Unnamed: 6', 'PLANVITAL', 'Unnamed: 8', 'PROVIDA', 'Unnamed: 10', 'SANTA MARIA','SUMMA BANSANDER']\n",
        "Cuota_2005_1 = Cuota_2005_1.drop(columnas_a_eliminar, axis = 1)\n",
        "columnas = ['Fecha', 'Cuota']\n",
        "Cuota_2005_1.columns = columnas\n",
        "Cuota_2005_1 = Cuota_2005_1.drop(0)\n",
        "# print(Cuota_2005_1)\n",
        "\n",
        "\n",
        "#Parte 2 año 2005\n",
        "\n",
        "start_row = 972\n",
        "end_row = 1279\n",
        "num_rows = end_row - start_row\n",
        "\n",
        "Cuota_2005_2 = pd.read_csv('vcfA2002-2024.csv', sep = \";\",  decimal = \",\", skiprows=start_row - 1, nrows=num_rows)\n",
        "Cuota_2005_2 = Cuota_2005_2.reset_index()      #Fecha está siendo considerada como un índice, por lo que debe volver a convertirse en una columna\n",
        "# print(Cuota_2005_2.columns)             #Se corrieron todas las columnas a la derecha, por lo tanto el valor de la cuota de hábitat se encuentra en \"Unnamed: 4\"\n",
        "columnas_a_eliminar = ['Fecha', 'BANSANDER', 'Unnamed: 2', 'CUPRUM','HABITAT', 'Unnamed: 6', 'PLANVITAL', 'PROVIDA', 'Unnamed: 10', 'SANTA MARIA','Unnamed: 8']\n",
        "Cuota_2005_2 = Cuota_2005_2.drop(columnas_a_eliminar, axis = 1)\n",
        "columnas = ['Fecha', 'Cuota']\n",
        "Cuota_2005_2.columns = columnas\n",
        "Cuota_2005_2 = Cuota_2005_2.drop(0)\n",
        "# print(Cuota_2005_2)\n",
        "\n",
        "Cuota_2005 = pd.concat([Cuota_2005_1, Cuota_2005_2], axis = 0)\n",
        "print(Cuota_2005)\n",
        "\n"
      ]
    },
    {
      "cell_type": "markdown",
      "metadata": {
        "id": "8gbj11ft0BlI"
      },
      "source": [
        "##Valores de cuotas para el año 2006"
      ]
    },
    {
      "cell_type": "code",
      "execution_count": 33,
      "metadata": {
        "colab": {
          "base_uri": "https://localhost:8080/"
        },
        "id": "lMF-Gkn60E4Y",
        "outputId": "204f646e-071a-42e9-bbfa-6dac733cca3f"
      },
      "outputs": [
        {
          "name": "stdout",
          "output_type": "stream",
          "text": [
            "          Fecha      Cuota\n",
            "1    2006-01-01  17.154,79\n",
            "2    2006-01-02  17.210,29\n",
            "3    2006-01-03  17.210,78\n",
            "4    2006-01-04  17.262,93\n",
            "5    2006-01-05  17.459,31\n",
            "..          ...        ...\n",
            "361  2006-12-27  21.200,29\n",
            "362  2006-12-28  21.252,07\n",
            "363  2006-12-29  21.366,32\n",
            "364  2006-12-30  21.366,32\n",
            "365  2006-12-31  21.366,32\n",
            "\n",
            "[365 rows x 2 columns]\n"
          ]
        }
      ],
      "source": [
        "start_row = 1283\n",
        "end_row = 1649\n",
        "num_rows = end_row - start_row\n",
        "\n",
        "Cuota_2006 = pd.read_csv('vcfA2002-2024.csv', sep = \";\",  decimal = \",\", skiprows=start_row - 1, nrows=num_rows)\n",
        "Cuota_2006 = Cuota_2006.reset_index()      #Fecha está siendo considerada como un índice, por lo que debe volver a convertirse en una columna\n",
        "# print(Cuota_2006.columns)             #Se corrieron todas las columnas a la derecha, por lo tanto el valor de la cuota de hábitat se encuentra en \"Unnamed: 4\"\n",
        "columnas_a_eliminar = ['Fecha', 'BANSANDER', 'Unnamed: 2', 'CUPRUM','HABITAT', 'Unnamed: 6', 'PLANVITAL', 'PROVIDA', 'Unnamed: 10', 'SANTA MARIA','Unnamed: 8']\n",
        "Cuota_2006 = Cuota_2006.drop(columnas_a_eliminar, axis = 1)\n",
        "columnas = ['Fecha', 'Cuota']\n",
        "Cuota_2006.columns = columnas\n",
        "Cuota_2006 = Cuota_2006.drop(0)\n",
        "print(Cuota_2006)"
      ]
    },
    {
      "cell_type": "markdown",
      "metadata": {
        "id": "yid_lu8F0YLM"
      },
      "source": [
        "##Valores de cuotas para el año 2007"
      ]
    },
    {
      "cell_type": "code",
      "execution_count": 34,
      "metadata": {
        "colab": {
          "base_uri": "https://localhost:8080/"
        },
        "id": "Vx2T-PlT0azW",
        "outputId": "8a7498d1-285d-4974-9798-22ebfa990f4c"
      },
      "outputs": [
        {
          "name": "stdout",
          "output_type": "stream",
          "text": [
            "          Fecha      Cuota\n",
            "1    2007-01-01  21.366,32\n",
            "2    2007-01-02  21.403,23\n",
            "3    2007-01-03  21.477,93\n",
            "4    2007-01-04  21.559,69\n",
            "5    2007-01-05  21.592,21\n",
            "..          ...        ...\n",
            "361  2007-12-27  25.046,81\n",
            "362  2007-12-28  25.203,60\n",
            "363  2007-12-29  25.203,60\n",
            "364  2007-12-30  25.203,60\n",
            "365  2007-12-31  25.210,86\n",
            "\n",
            "[365 rows x 2 columns]\n"
          ]
        }
      ],
      "source": [
        "start_row = 1653\n",
        "end_row = 2019\n",
        "num_rows = end_row - start_row\n",
        "\n",
        "Cuota_2007 = pd.read_csv('vcfA2002-2024.csv', sep = \";\",  decimal = \",\", skiprows=start_row - 1, nrows=num_rows)\n",
        "Cuota_2007 = Cuota_2007.reset_index()      #Fecha está siendo considerada como un índice, por lo que debe volver a convertirse en una columna\n",
        "# print(Cuota_2007.columns)             #Se corrieron todas las columnas a la derecha, por lo tanto el valor de la cuota de hábitat se encuentra en \"Unnamed: 4\"\n",
        "columnas_a_eliminar = ['Fecha', 'BANSANDER', 'Unnamed: 2', 'CUPRUM','HABITAT', 'Unnamed: 6', 'PLANVITAL', 'PROVIDA', 'Unnamed: 10', 'SANTA MARIA','Unnamed: 8']\n",
        "Cuota_2007 = Cuota_2007.drop(columnas_a_eliminar, axis = 1)\n",
        "columnas = ['Fecha', 'Cuota']\n",
        "Cuota_2007.columns = columnas\n",
        "Cuota_2007 = Cuota_2007.drop(0)\n",
        "print(Cuota_2007)"
      ]
    },
    {
      "cell_type": "markdown",
      "metadata": {
        "id": "auNo0FHa04iN"
      },
      "source": [
        "##Valores de cuotas para el año 2008"
      ]
    },
    {
      "cell_type": "code",
      "execution_count": 35,
      "metadata": {
        "colab": {
          "base_uri": "https://localhost:8080/"
        },
        "id": "I-yn8P5Y07Lt",
        "outputId": "7214bea7-f222-4d44-fdc0-236a77b069c1"
      },
      "outputs": [
        {
          "name": "stdout",
          "output_type": "stream",
          "text": [
            "          Fecha      Cuota\n",
            "1    2008-01-01  25.210,86\n",
            "2    2008-01-02  25.241,78\n",
            "3    2008-01-03  25.211,47\n",
            "4    2008-01-04  25.004,55\n",
            "5    2008-01-05  25.004,55\n",
            "..          ...        ...\n",
            "271  2008-12-27  16.329,09\n",
            "272  2008-12-28  16.329,09\n",
            "273  2008-12-29  16.374,77\n",
            "274  2008-12-30  16.440,64\n",
            "275  2008-12-31  16.562,12\n",
            "\n",
            "[366 rows x 2 columns]\n"
          ]
        }
      ],
      "source": [
        "#Parte 1 año 2008\n",
        "\n",
        "start_row = 2023\n",
        "end_row = 2115\n",
        "num_rows = end_row - start_row\n",
        "\n",
        "Cuota_2008_1 = pd.read_csv('vcfA2002-2024.csv', sep = \";\",  decimal = \",\", skiprows=start_row - 1, nrows=num_rows)\n",
        "Cuota_2008_1 = Cuota_2008_1.reset_index()      #Fecha está siendo considerada como un índice, por lo que debe volver a convertirse en una columna\n",
        "# print(Cuota_2008_1.columns)             #Se corrieron todas las columnas a la derecha, por lo tanto el valor de la cuota de hábitat se encuentra en \"Unnamed: 4\"\n",
        "columnas_a_eliminar = ['Fecha', 'BANSANDER', 'Unnamed: 2', 'CUPRUM','HABITAT', 'Unnamed: 6', 'PLANVITAL', 'PROVIDA', 'Unnamed: 10', 'SANTA MARIA','Unnamed: 8']\n",
        "Cuota_2008_1 = Cuota_2008_1.drop(columnas_a_eliminar, axis = 1)\n",
        "columnas = ['Fecha', 'Cuota']\n",
        "Cuota_2008_1.columns = columnas\n",
        "Cuota_2008_1 = Cuota_2008_1.drop(0)\n",
        "# print(Cuota_2008_1)\n",
        "\n",
        "#Parte 2 del año 2008\n",
        "\n",
        "start_row = 2119\n",
        "end_row = 2395\n",
        "num_rows = end_row - start_row\n",
        "\n",
        "Cuota_2008_2 = pd.read_csv('vcfA2002-2024.csv', sep = \";\",  decimal = \",\", skiprows=start_row - 1, nrows=num_rows)\n",
        "Cuota_2008_2 = Cuota_2008_2.reset_index()      #Fecha está siendo considerada como un índice, por lo que debe volver a convertirse en una columna\n",
        "# print(Cuota_2008_2.columns)             #Se corrieron todas las columnas a la derecha, por lo tanto el valor de la cuota de hábitat se encuentra en \"Unnamed: 4\"\n",
        "columnas_a_eliminar = ['Fecha', 'CAPITAL', 'Unnamed: 2', 'CUPRUM','HABITAT', 'Unnamed: 6', 'PLANVITAL', 'PROVIDA','Unnamed: 8']\n",
        "Cuota_2008_2 = Cuota_2008_2.drop(columnas_a_eliminar, axis = 1)\n",
        "columnas = ['Fecha', 'Cuota']\n",
        "Cuota_2008_2.columns = columnas\n",
        "Cuota_2008_2 = Cuota_2008_2.drop(0)\n",
        "# print(Cuota_2008_2)\n",
        "\n",
        "Cuota_2008 = pd.concat([Cuota_2008_1, Cuota_2008_2], axis = 0)\n",
        "print(Cuota_2008)\n"
      ]
    },
    {
      "cell_type": "markdown",
      "metadata": {
        "id": "70nLBfFrSCfm"
      },
      "source": [
        "##Valores de cuotas para el año 2009"
      ]
    },
    {
      "cell_type": "code",
      "execution_count": 36,
      "metadata": {
        "colab": {
          "base_uri": "https://localhost:8080/"
        },
        "id": "CDCCHpVCSFw_",
        "outputId": "c4a1650c-3083-4633-8b45-1a844ede6343"
      },
      "outputs": [
        {
          "name": "stdout",
          "output_type": "stream",
          "text": [
            "          Fecha      Cuota\n",
            "1    2009-01-01  16.562,12\n",
            "2    2009-01-02  16.659,75\n",
            "3    2009-01-03  16.659,75\n",
            "4    2009-01-04  16.659,75\n",
            "5    2009-01-05  16.880,77\n",
            "..          ...        ...\n",
            "361  2009-12-27  23.200,73\n",
            "362  2009-12-28  23.252,64\n",
            "363  2009-12-29  23.368,67\n",
            "364  2009-12-30  23.426,72\n",
            "365  2009-12-31  23.467,49\n",
            "\n",
            "[365 rows x 2 columns]\n"
          ]
        }
      ],
      "source": [
        "start_row = 2399\n",
        "end_row = 2765\n",
        "num_rows = end_row - start_row\n",
        "\n",
        "Cuota_2009 = pd.read_csv('vcfA2002-2024.csv', sep = \";\",  decimal = \",\", skiprows=start_row - 1, nrows=num_rows)\n",
        "Cuota_2009 = Cuota_2009.reset_index()      #Fecha está siendo considerada como un índice, por lo que debe volver a convertirse en una columna\n",
        "# print(Cuota_2009.columns)             #Se corrieron todas las columnas a la derecha, por lo tanto el valor de la cuota de hábitat se encuentra en \"Unnamed: 4\"\n",
        "columnas_a_eliminar = ['Fecha', 'CAPITAL', 'Unnamed: 2', 'CUPRUM','HABITAT', 'Unnamed: 6', 'PLANVITAL', 'PROVIDA','Unnamed: 8']\n",
        "Cuota_2009 = Cuota_2009.drop(columnas_a_eliminar, axis = 1)\n",
        "columnas = ['Fecha', 'Cuota']\n",
        "Cuota_2009.columns = columnas\n",
        "Cuota_2009 = Cuota_2009.drop(0)\n",
        "print(Cuota_2009)"
      ]
    },
    {
      "cell_type": "markdown",
      "metadata": {
        "id": "sgRlYFJ5Srd6"
      },
      "source": [
        "##Valores de cuotas para el año 2010"
      ]
    },
    {
      "cell_type": "code",
      "execution_count": 37,
      "metadata": {
        "colab": {
          "base_uri": "https://localhost:8080/"
        },
        "id": "9Ox32_q5SuC0",
        "outputId": "3549a6c7-a4b0-4ea5-a662-de56a7a14994"
      },
      "outputs": [
        {
          "name": "stdout",
          "output_type": "stream",
          "text": [
            "          Fecha      Cuota\n",
            "1    2010-01-01  23.467,49\n",
            "2    2010-01-02  23.467,49\n",
            "3    2010-01-03  23.467,49\n",
            "4    2010-01-04  23.495,44\n",
            "5    2010-01-05  23.790,69\n",
            "..          ...        ...\n",
            "118  2010-12-27  26.815,11\n",
            "119  2010-12-28  26.818,31\n",
            "120  2010-12-29  26.751,39\n",
            "121  2010-12-30  26.900,75\n",
            "122  2010-12-31  27.023,61\n",
            "\n",
            "[365 rows x 2 columns]\n"
          ]
        }
      ],
      "source": [
        "#Parte 1 año 2010\n",
        "\n",
        "start_row = 2769\n",
        "end_row = 3013\n",
        "num_rows = end_row - start_row\n",
        "\n",
        "Cuota_2010_1 = pd.read_csv('vcfA2002-2024.csv', sep = \";\",  decimal = \",\", skiprows=start_row - 1, nrows=num_rows)\n",
        "Cuota_2010_1 = Cuota_2010_1.reset_index()      #Fecha está siendo considerada como un índice, por lo que debe volver a convertirse en una columna\n",
        "# print(Cuota_2010_1.columns)             #Se corrieron todas las columnas a la derecha, por lo tanto el valor de la cuota de hábitat se encuentra en \"Unnamed: 4\"\n",
        "columnas_a_eliminar = ['Fecha', 'CAPITAL', 'Unnamed: 2', 'CUPRUM','HABITAT', 'Unnamed: 6', 'PLANVITAL', 'PROVIDA','Unnamed: 8']\n",
        "Cuota_2010_1 = Cuota_2010_1.drop(columnas_a_eliminar, axis = 1)\n",
        "columnas = ['Fecha', 'Cuota']\n",
        "Cuota_2010_1.columns = columnas\n",
        "Cuota_2010_1 = Cuota_2010_1.drop(0)\n",
        "# print(Cuota_2010_1)\n",
        "\n",
        "#Parte 2 año 2010\n",
        "\n",
        "start_row = 3017\n",
        "end_row = 3140\n",
        "num_rows = end_row - start_row\n",
        "\n",
        "Cuota_2010_2 = pd.read_csv('vcfA2002-2024.csv', sep = \";\",  decimal = \",\", skiprows=start_row - 1, nrows=num_rows)\n",
        "Cuota_2010_2 = Cuota_2010_2.reset_index()      #Fecha está siendo considerada como un índice, por lo que debe volver a convertirse en una columna\n",
        "# print(Cuota_2010_2.columns)             #Se corrieron todas las columnas a la derecha, por lo tanto el valor de la cuota de hábitat se encuentra en \"Unnamed: 4\"\n",
        "columnas_a_eliminar = ['Fecha', 'CAPITAL', 'Unnamed: 2', 'CUPRUM','HABITAT', 'Unnamed: 6', 'MODELO', 'PLANVITAL', 'PROVIDA','Unnamed: 8', 'Unnamed: 10']\n",
        "Cuota_2010_2 = Cuota_2010_2.drop(columnas_a_eliminar, axis = 1)\n",
        "columnas = ['Fecha', 'Cuota']\n",
        "Cuota_2010_2.columns = columnas\n",
        "Cuota_2010_2 = Cuota_2010_2.drop(0)\n",
        "# print(Cuota_2010_2)\n",
        "\n",
        "Cuota_2010 = pd.concat([Cuota_2010_1, Cuota_2010_2], axis = 0)\n",
        "print(Cuota_2010)\n",
        "\n",
        "\n"
      ]
    },
    {
      "cell_type": "markdown",
      "metadata": {
        "id": "Gu9FYwqdUQcs"
      },
      "source": [
        "##Valores de cuotas para el año 2011"
      ]
    },
    {
      "cell_type": "code",
      "execution_count": 38,
      "metadata": {
        "colab": {
          "base_uri": "https://localhost:8080/"
        },
        "id": "WQjGeX72UcIe",
        "outputId": "21536471-e10b-4000-cd55-a803bfb452b7"
      },
      "outputs": [
        {
          "name": "stdout",
          "output_type": "stream",
          "text": [
            "          Fecha      Cuota\n",
            "1    2011-01-01  27.023,61\n",
            "2    2011-01-02  27.023,61\n",
            "3    2011-01-03  27.059,61\n",
            "4    2011-01-04  27.205,54\n",
            "5    2011-01-05  27.846,48\n",
            "..          ...        ...\n",
            "361  2011-12-27  25.210,18\n",
            "362  2011-12-28  25.206,91\n",
            "363  2011-12-29  24.992,22\n",
            "364  2011-12-30  25.085,71\n",
            "365  2011-12-31  25.085,71\n",
            "\n",
            "[365 rows x 2 columns]\n"
          ]
        }
      ],
      "source": [
        "start_row = 3144\n",
        "end_row = 3510\n",
        "num_rows = end_row - start_row\n",
        "\n",
        "Cuota_2011 = pd.read_csv('vcfA2002-2024.csv', sep = \";\",  decimal = \",\", skiprows=start_row - 1, nrows=num_rows)\n",
        "Cuota_2011 = Cuota_2011.reset_index()      #Fecha está siendo considerada como un índice, por lo que debe volver a convertirse en una columna\n",
        "# print(Cuota_2011.columns)             #Se corrieron todas las columnas a la derecha, por lo tanto el valor de la cuota de hábitat se encuentra en \"Unnamed: 4\"\n",
        "columnas_a_eliminar = ['Fecha', 'CAPITAL', 'Unnamed: 2', 'CUPRUM','HABITAT', 'Unnamed: 6', 'MODELO', 'PLANVITAL', 'PROVIDA','Unnamed: 8', 'Unnamed: 10']\n",
        "Cuota_2011 = Cuota_2011.drop(columnas_a_eliminar, axis = 1)\n",
        "columnas = ['Fecha', 'Cuota']\n",
        "Cuota_2011.columns = columnas\n",
        "Cuota_2011 = Cuota_2011.drop(0)\n",
        "print(Cuota_2011)"
      ]
    },
    {
      "cell_type": "markdown",
      "metadata": {
        "id": "3D2uuMLdU1iU"
      },
      "source": [
        "##Valores de cuotas para el año 2012"
      ]
    },
    {
      "cell_type": "code",
      "execution_count": 39,
      "metadata": {
        "colab": {
          "base_uri": "https://localhost:8080/"
        },
        "id": "m1bjLWqQU5ZQ",
        "outputId": "9d90c91e-8f8d-4196-fc01-e543ca19e4bf"
      },
      "outputs": [
        {
          "name": "stdout",
          "output_type": "stream",
          "text": [
            "          Fecha      Cuota\n",
            "1    2012-01-01  25.085,71\n",
            "2    2012-01-02  25.067,89\n",
            "3    2012-01-03  25.068,09\n",
            "4    2012-01-04  25.289,68\n",
            "5    2012-01-05  25.295,10\n",
            "..          ...        ...\n",
            "362  2012-12-27  27.248,95\n",
            "363  2012-12-28  27.314,70\n",
            "364  2012-12-29  27.314,70\n",
            "365  2012-12-30  27.314,70\n",
            "366  2012-12-31  27.282,45\n",
            "\n",
            "[366 rows x 2 columns]\n"
          ]
        }
      ],
      "source": [
        "start_row = 3514\n",
        "end_row = 3881\n",
        "num_rows = end_row - start_row\n",
        "\n",
        "Cuota_2012 = pd.read_csv('vcfA2002-2024.csv', sep = \";\",  decimal = \",\", skiprows=start_row - 1, nrows=num_rows)\n",
        "Cuota_2012 = Cuota_2012.reset_index()      #Fecha está siendo considerada como un índice, por lo que debe volver a convertirse en una columna\n",
        "# print(Cuota_2012.columns)             #Se corrieron todas las columnas a la derecha, por lo tanto el valor de la cuota de hábitat se encuentra en \"Unnamed: 4\"\n",
        "columnas_a_eliminar = ['Fecha', 'CAPITAL', 'Unnamed: 2', 'CUPRUM','HABITAT', 'Unnamed: 6', 'MODELO', 'PLANVITAL', 'PROVIDA','Unnamed: 8', 'Unnamed: 10']\n",
        "Cuota_2012 = Cuota_2012.drop(columnas_a_eliminar, axis = 1)\n",
        "columnas = ['Fecha', 'Cuota']\n",
        "Cuota_2012.columns = columnas\n",
        "Cuota_2012 = Cuota_2012.drop(0)\n",
        "print(Cuota_2012)"
      ]
    },
    {
      "cell_type": "markdown",
      "metadata": {
        "id": "0FHhqMepVN9u"
      },
      "source": [
        "##Valores de cuotas para el año 2013"
      ]
    },
    {
      "cell_type": "code",
      "execution_count": 40,
      "metadata": {
        "colab": {
          "base_uri": "https://localhost:8080/"
        },
        "id": "FSz7_bpzVSQa",
        "outputId": "be16a25e-080a-4415-a926-60857116569d"
      },
      "outputs": [
        {
          "name": "stdout",
          "output_type": "stream",
          "text": [
            "          Fecha      Cuota\n",
            "1    2013-01-01  27.282,45\n",
            "2    2013-01-02  27.469,80\n",
            "3    2013-01-03  27.699,09\n",
            "4    2013-01-04  27.717,09\n",
            "5    2013-01-05  27.717,09\n",
            "..          ...        ...\n",
            "361  2013-12-27  29.699,99\n",
            "362  2013-12-28  29.699,99\n",
            "363  2013-12-29  29.699,99\n",
            "364  2013-12-30  29.730,10\n",
            "365  2013-12-31  29.798,30\n",
            "\n",
            "[365 rows x 2 columns]\n"
          ]
        }
      ],
      "source": [
        "start_row = 3885\n",
        "end_row = 4251\n",
        "num_rows = end_row - start_row\n",
        "\n",
        "Cuota_2013 = pd.read_csv('vcfA2002-2024.csv', sep = \";\",  decimal = \",\", skiprows=start_row - 1, nrows=num_rows)\n",
        "Cuota_2013 = Cuota_2013.reset_index()      #Fecha está siendo considerada como un índice, por lo que debe volver a convertirse en una columna\n",
        "# print(Cuota_2013.columns)             #Se corrieron todas las columnas a la derecha, por lo tanto el valor de la cuota de hábitat se encuentra en \"Unnamed: 4\"\n",
        "columnas_a_eliminar = ['Fecha', 'CAPITAL', 'Unnamed: 2', 'CUPRUM','HABITAT', 'Unnamed: 6', 'MODELO', 'PLANVITAL', 'PROVIDA','Unnamed: 8', 'Unnamed: 10']\n",
        "Cuota_2013 = Cuota_2013.drop(columnas_a_eliminar, axis = 1)\n",
        "columnas = ['Fecha', 'Cuota']\n",
        "Cuota_2013.columns = columnas\n",
        "Cuota_2013 = Cuota_2013.drop(0)\n",
        "print(Cuota_2013)"
      ]
    },
    {
      "cell_type": "markdown",
      "metadata": {
        "id": "aTHoQUzjVlx2"
      },
      "source": [
        "##Valores de cuotas para el año 2014"
      ]
    },
    {
      "cell_type": "code",
      "execution_count": 41,
      "metadata": {
        "colab": {
          "base_uri": "https://localhost:8080/"
        },
        "id": "M2rBGrdSVnd8",
        "outputId": "c2443b69-abf6-488c-fa5f-5b05f36791c0"
      },
      "outputs": [
        {
          "name": "stdout",
          "output_type": "stream",
          "text": [
            "          Fecha      Cuota\n",
            "1    2014-01-01  29.798,30\n",
            "2    2014-01-02  29.898,70\n",
            "3    2014-01-03  29.873,73\n",
            "4    2014-01-04  29.873,73\n",
            "5    2014-01-05  29.873,73\n",
            "..          ...        ...\n",
            "361  2014-12-27  34.227,99\n",
            "362  2014-12-28  34.227,99\n",
            "363  2014-12-29  34.249,36\n",
            "364  2014-12-30  34.324,07\n",
            "365  2014-12-31  34.256,69\n",
            "\n",
            "[365 rows x 2 columns]\n"
          ]
        }
      ],
      "source": [
        "start_row = 4255\n",
        "end_row = 4621\n",
        "num_rows = end_row - start_row\n",
        "\n",
        "Cuota_2014 = pd.read_csv('vcfA2002-2024.csv', sep = \";\",  decimal = \",\", skiprows=start_row - 1, nrows=num_rows)\n",
        "Cuota_2014 = Cuota_2014.reset_index()      #Fecha está siendo considerada como un índice, por lo que debe volver a convertirse en una columna\n",
        "# print(Cuota_2014.columns)             #Se corrieron todas las columnas a la derecha, por lo tanto el valor de la cuota de hábitat se encuentra en \"Unnamed: 4\"\n",
        "columnas_a_eliminar = ['Fecha', 'CAPITAL', 'Unnamed: 2', 'CUPRUM','HABITAT', 'Unnamed: 6', 'MODELO', 'PLANVITAL', 'PROVIDA','Unnamed: 8', 'Unnamed: 10']\n",
        "Cuota_2014 = Cuota_2014.drop(columnas_a_eliminar, axis = 1)\n",
        "columnas = ['Fecha', 'Cuota']\n",
        "Cuota_2014.columns = columnas\n",
        "Cuota_2014 = Cuota_2014.drop(0)\n",
        "print(Cuota_2014)"
      ]
    },
    {
      "cell_type": "markdown",
      "metadata": {
        "id": "jLQZyZeVV6-D"
      },
      "source": [
        "##Valores de cuotas para el año 2015"
      ]
    },
    {
      "cell_type": "code",
      "execution_count": 42,
      "metadata": {
        "colab": {
          "base_uri": "https://localhost:8080/"
        },
        "id": "DbevB4vBV86k",
        "outputId": "3d81b7b9-e858-4368-ab42-5d2e47c04891"
      },
      "outputs": [
        {
          "name": "stdout",
          "output_type": "stream",
          "text": [
            "          Fecha      Cuota\n",
            "1    2015-01-01  34.256,69\n",
            "2    2015-01-02  34.206,70\n",
            "3    2015-01-03  34.206,70\n",
            "4    2015-01-04  34.206,70\n",
            "5    2015-01-05  34.410,87\n",
            "..          ...        ...\n",
            "361  2015-12-27  36.652,17\n",
            "362  2015-12-28  36.815,73\n",
            "363  2015-12-29  36.908,96\n",
            "364  2015-12-30  37.179,18\n",
            "365  2015-12-31  37.091,74\n",
            "\n",
            "[365 rows x 2 columns]\n"
          ]
        }
      ],
      "source": [
        "start_row = 4625\n",
        "end_row = 4991\n",
        "num_rows = end_row - start_row\n",
        "\n",
        "Cuota_2015 = pd.read_csv('vcfA2002-2024.csv', sep = \";\",  decimal = \",\", skiprows=start_row - 1, nrows=num_rows)\n",
        "Cuota_2015 = Cuota_2015.reset_index()      #Fecha está siendo considerada como un índice, por lo que debe volver a convertirse en una columna\n",
        "# print(Cuota_2015.columns)             #Se corrieron todas las columnas a la derecha, por lo tanto el valor de la cuota de hábitat se encuentra en \"Unnamed: 4\"\n",
        "columnas_a_eliminar = ['Fecha', 'CAPITAL', 'Unnamed: 2', 'CUPRUM','HABITAT', 'Unnamed: 6', 'MODELO', 'PLANVITAL', 'PROVIDA','Unnamed: 8', 'Unnamed: 10']\n",
        "Cuota_2015 = Cuota_2015.drop(columnas_a_eliminar, axis = 1)\n",
        "columnas = ['Fecha', 'Cuota']\n",
        "Cuota_2015.columns = columnas\n",
        "Cuota_2015 = Cuota_2015.drop(0)\n",
        "print(Cuota_2015)"
      ]
    },
    {
      "cell_type": "markdown",
      "metadata": {
        "id": "TmO7CWkSWO0Q"
      },
      "source": [
        "##Valores de cuota para el año 2016"
      ]
    },
    {
      "cell_type": "code",
      "execution_count": 43,
      "metadata": {
        "colab": {
          "base_uri": "https://localhost:8080/"
        },
        "id": "aFWbBc6FWV5X",
        "outputId": "de33df1b-0963-4649-88b3-3b129a3f73bd"
      },
      "outputs": [
        {
          "name": "stdout",
          "output_type": "stream",
          "text": [
            "          Fecha      Cuota\n",
            "1    2016-01-01  37.091,74\n",
            "2    2016-01-02  37.091,74\n",
            "3    2016-01-03  37.091,74\n",
            "4    2016-01-04  37.088,98\n",
            "5    2016-01-05  36.766,69\n",
            "..          ...        ...\n",
            "362  2016-12-27  38.044,65\n",
            "363  2016-12-28  38.131,58\n",
            "364  2016-12-29  38.149,02\n",
            "365  2016-12-30  38.043,31\n",
            "366  2016-12-31  38.043,31\n",
            "\n",
            "[366 rows x 2 columns]\n"
          ]
        }
      ],
      "source": [
        "#Hay un día extra porque es año bisiesto\n",
        "\n",
        "start_row = 4995\n",
        "end_row = 5362\n",
        "num_rows = end_row - start_row\n",
        "\n",
        "Cuota_2016 = pd.read_csv('vcfA2002-2024.csv', sep = \";\",  decimal = \",\", skiprows=start_row - 1, nrows=num_rows)\n",
        "Cuota_2016 = Cuota_2016.reset_index()      #Fecha está siendo considerada como un índice, por lo que debe volver a convertirse en una columna\n",
        "# print(Cuota_2016.columns)             #Se corrieron todas las columnas a la derecha, por lo tanto el valor de la cuota de hábitat se encuentra en \"Unnamed: 4\"\n",
        "columnas_a_eliminar = ['Fecha', 'CAPITAL', 'Unnamed: 2', 'CUPRUM','HABITAT', 'Unnamed: 6', 'MODELO', 'PLANVITAL', 'PROVIDA','Unnamed: 8', 'Unnamed: 10']\n",
        "Cuota_2016 = Cuota_2016.drop(columnas_a_eliminar, axis = 1)\n",
        "columnas = ['Fecha', 'Cuota']\n",
        "Cuota_2016.columns = columnas\n",
        "Cuota_2016 = Cuota_2016.drop(0)\n",
        "print(Cuota_2016)"
      ]
    },
    {
      "cell_type": "markdown",
      "metadata": {
        "id": "gYFeDjWZW1f2"
      },
      "source": [
        "##Valores de cuotas para el año 2017"
      ]
    },
    {
      "cell_type": "code",
      "execution_count": 44,
      "metadata": {
        "colab": {
          "base_uri": "https://localhost:8080/"
        },
        "id": "GHbKZeDlW6_z",
        "outputId": "34297ab0-58d1-490a-9c7a-fe5b70c596c0"
      },
      "outputs": [
        {
          "name": "stdout",
          "output_type": "stream",
          "text": [
            "          Fecha      Cuota\n",
            "1    2017-01-01  38.043,31\n",
            "2    2017-01-02  38.043,31\n",
            "3    2017-01-03  38.218,64\n",
            "4    2017-01-04  38.473,57\n",
            "5    2017-01-05  38.582,46\n",
            "..          ...        ...\n",
            "361  2017-12-27  44.787,20\n",
            "362  2017-12-28  44.675,13\n",
            "363  2017-12-29  44.790,45\n",
            "364  2017-12-30  44.790,45\n",
            "365  2017-12-31  44.790,45\n",
            "\n",
            "[365 rows x 2 columns]\n"
          ]
        }
      ],
      "source": [
        "start_row = 5366\n",
        "end_row = 5732\n",
        "num_rows = end_row - start_row\n",
        "\n",
        "Cuota_2017 = pd.read_csv('vcfA2002-2024.csv', sep = \";\",  decimal = \",\", skiprows=start_row - 1, nrows=num_rows)\n",
        "Cuota_2017 = Cuota_2017.reset_index()      #Fecha está siendo considerada como un índice, por lo que debe volver a convertirse en una columna\n",
        "# print(Cuota_2017.columns)             #Se corrieron todas las columnas a la derecha, por lo tanto el valor de la cuota de hábitat se encuentra en \"Unnamed: 4\"\n",
        "columnas_a_eliminar = ['Fecha', 'CAPITAL', 'Unnamed: 2', 'CUPRUM','HABITAT', 'Unnamed: 6', 'MODELO', 'PLANVITAL', 'PROVIDA','Unnamed: 8', 'Unnamed: 10']\n",
        "Cuota_2017 = Cuota_2017.drop(columnas_a_eliminar, axis = 1)\n",
        "columnas = ['Fecha', 'Cuota']\n",
        "Cuota_2017.columns = columnas\n",
        "Cuota_2017 = Cuota_2017.drop(0)\n",
        "print(Cuota_2017)"
      ]
    },
    {
      "cell_type": "markdown",
      "metadata": {
        "id": "5hDjFaq7XrM6"
      },
      "source": [
        "##Valores de cuotas para el año 2018"
      ]
    },
    {
      "cell_type": "code",
      "execution_count": 45,
      "metadata": {
        "colab": {
          "base_uri": "https://localhost:8080/"
        },
        "id": "P0SP0185Xtn1",
        "outputId": "fd2ba7ce-ee02-40f8-89d7-a5b27135a3ba"
      },
      "outputs": [
        {
          "name": "stdout",
          "output_type": "stream",
          "text": [
            "          Fecha      Cuota\n",
            "1    2018-01-01  44.790,45\n",
            "2    2018-01-02  44.839,67\n",
            "3    2018-01-03  44.850,09\n",
            "4    2018-01-04  44.838,63\n",
            "5    2018-01-05  45.085,63\n",
            "..          ...        ...\n",
            "361  2018-12-27  43.016,91\n",
            "362  2018-12-28  43.252,36\n",
            "363  2018-12-29  43.252,36\n",
            "364  2018-12-30  43.252,36\n",
            "365  2018-12-31  43.503,13\n",
            "\n",
            "[365 rows x 2 columns]\n"
          ]
        }
      ],
      "source": [
        "start_row = 5736\n",
        "end_row = 6102\n",
        "num_rows = end_row - start_row\n",
        "\n",
        "Cuota_2018 = pd.read_csv('vcfA2002-2024.csv', sep = \";\",  decimal = \",\", skiprows=start_row - 1, nrows=num_rows)\n",
        "Cuota_2018 = Cuota_2018.reset_index()      #Fecha está siendo considerada como un índice, por lo que debe volver a convertirse en una columna\n",
        "# print(Cuota_2018.columns)             #Se corrieron todas las columnas a la derecha, por lo tanto el valor de la cuota de hábitat se encuentra en \"Unnamed: 4\"\n",
        "columnas_a_eliminar = ['Fecha', 'CAPITAL', 'Unnamed: 2', 'CUPRUM','HABITAT', 'Unnamed: 6', 'MODELO', 'PLANVITAL', 'PROVIDA','Unnamed: 8', 'Unnamed: 10']\n",
        "Cuota_2018 = Cuota_2018.drop(columnas_a_eliminar, axis = 1)\n",
        "columnas = ['Fecha', 'Cuota']\n",
        "Cuota_2018.columns = columnas\n",
        "Cuota_2018 = Cuota_2018.drop(0)\n",
        "print(Cuota_2018)"
      ]
    },
    {
      "cell_type": "markdown",
      "metadata": {
        "id": "55wjryeBYCax"
      },
      "source": [
        "##Valores de cuotas para el año 2019"
      ]
    },
    {
      "cell_type": "code",
      "execution_count": 46,
      "metadata": {
        "colab": {
          "base_uri": "https://localhost:8080/"
        },
        "id": "wV2RSXsNYFDB",
        "outputId": "da6b6ea6-54f2-46ed-decf-ef8a8fe2e97a"
      },
      "outputs": [
        {
          "name": "stdout",
          "output_type": "stream",
          "text": [
            "         Fecha      Cuota\n",
            "1   2019-01-01  43.503,13\n",
            "2   2019-01-02  43.585,14\n",
            "3   2019-01-03  43.654,15\n",
            "4   2019-01-04  43.519,33\n",
            "5   2019-01-05  43.519,33\n",
            "..         ...        ...\n",
            "88  2019-12-27  52.115,17\n",
            "89  2019-12-28  52.115,17\n",
            "90  2019-12-29  52.115,17\n",
            "91  2019-12-30  52.171,78\n",
            "92  2019-12-31  52.141,66\n",
            "\n",
            "[365 rows x 2 columns]\n"
          ]
        }
      ],
      "source": [
        "#Parte 1 año 2019\n",
        "\n",
        "start_row = 6106\n",
        "end_row = 6380\n",
        "num_rows = end_row - start_row\n",
        "\n",
        "Cuota_2019_1 = pd.read_csv('vcfA2002-2024.csv', sep = \";\",  decimal = \",\", skiprows=start_row - 1, nrows=num_rows)\n",
        "Cuota_2019_1 = Cuota_2019_1.reset_index()      #Fecha está siendo considerada como un índice, por lo que debe volver a convertirse en una columna\n",
        "# print(Cuota_2019_1.columns)             #Se corrieron todas las columnas a la derecha, por lo tanto el valor de la cuota de hábitat se encuentra en \"Unnamed: 4\"\n",
        "columnas_a_eliminar = ['Fecha', 'CAPITAL', 'Unnamed: 2', 'CUPRUM','HABITAT', 'Unnamed: 6', 'MODELO', 'PLANVITAL', 'PROVIDA','Unnamed: 8', 'Unnamed: 10']\n",
        "Cuota_2019_1 = Cuota_2019_1.drop(columnas_a_eliminar, axis = 1)\n",
        "columnas = ['Fecha', 'Cuota']\n",
        "Cuota_2019_1.columns = columnas\n",
        "Cuota_2019_1 = Cuota_2019_1.drop(0)\n",
        "# print(Cuota_2019_1)\n",
        "\n",
        "#Parte 2 año 2019\n",
        "\n",
        "start_row = 6384\n",
        "end_row = 6477\n",
        "num_rows = end_row - start_row\n",
        "\n",
        "Cuota_2019_2 = pd.read_csv('vcfA2002-2024.csv', sep = \";\",  decimal = \",\", skiprows=start_row - 1, nrows=num_rows)\n",
        "Cuota_2019_2 = Cuota_2019_2.reset_index()      #Fecha está siendo considerada como un índice, por lo que debe volver a convertirse en una columna\n",
        "# print(Cuota_2019_2.columns)             #Se corrieron todas las columnas a la derecha, por lo tanto el valor de la cuota de hábitat se encuentra en \"Unnamed: 4\"\n",
        "columnas_a_eliminar = ['Fecha', 'CAPITAL', 'Unnamed: 2', 'CUPRUM','HABITAT', 'Unnamed: 6', 'MODELO', 'PLANVITAL', 'PROVIDA','Unnamed: 8', 'Unnamed: 10', 'Unnamed: 12', 'UNO']\n",
        "Cuota_2019_2 = Cuota_2019_2.drop(columnas_a_eliminar, axis = 1)\n",
        "columnas = ['Fecha', 'Cuota']\n",
        "Cuota_2019_2.columns = columnas\n",
        "Cuota_2019_2 = Cuota_2019_2.drop(0)\n",
        "# print(Cuota_2019_2)\n",
        "\n",
        "Cuota_2019 = pd.concat([Cuota_2019_1, Cuota_2019_2], axis = 0)\n",
        "print(Cuota_2019)\n"
      ]
    },
    {
      "cell_type": "markdown",
      "metadata": {
        "id": "QiNujvNTakef"
      },
      "source": [
        "##Valores de cuotas para el año 2020"
      ]
    },
    {
      "cell_type": "code",
      "execution_count": 47,
      "metadata": {
        "colab": {
          "base_uri": "https://localhost:8080/"
        },
        "id": "aXm7s7gZaoQ8",
        "outputId": "fdeb59f0-b101-4b2a-df17-77e46a8c3ce3"
      },
      "outputs": [
        {
          "name": "stdout",
          "output_type": "stream",
          "text": [
            "          Fecha      Cuota\n",
            "1    2020-01-01  52.141,66\n",
            "2    2020-01-02  52.349,68\n",
            "3    2020-01-03  53.190,38\n",
            "4    2020-01-04  53.190,38\n",
            "5    2020-01-05  53.190,38\n",
            "..          ...        ...\n",
            "362  2020-12-27  54.039,15\n",
            "363  2020-12-28  53.730,64\n",
            "364  2020-12-29  53.951,95\n",
            "365  2020-12-30  54.260,43\n",
            "366  2020-12-31  54.549,80\n",
            "\n",
            "[366 rows x 2 columns]\n"
          ]
        }
      ],
      "source": [
        "start_row = 6481\n",
        "end_row = 6848\n",
        "num_rows = end_row - start_row\n",
        "\n",
        "Cuota_2020 = pd.read_csv('vcfA2002-2024.csv', sep = \";\",  decimal = \",\", skiprows=start_row - 1, nrows=num_rows)\n",
        "Cuota_2020 = Cuota_2020.reset_index()      #Fecha está siendo considerada como un índice, por lo que debe volver a convertirse en una columna\n",
        "# print(Cuota_2020.columns)             #Se corrieron todas las columnas a la derecha, por lo tanto el valor de la cuota de hábitat se encuentra en \"Unnamed: 4\"\n",
        "columnas_a_eliminar = ['Fecha', 'CAPITAL', 'Unnamed: 2', 'CUPRUM','HABITAT', 'Unnamed: 6', 'MODELO', 'PLANVITAL', 'PROVIDA','Unnamed: 8', 'Unnamed: 10', 'Unnamed: 12', 'UNO']\n",
        "Cuota_2020 = Cuota_2020.drop(columnas_a_eliminar, axis = 1)\n",
        "columnas = ['Fecha', 'Cuota']\n",
        "Cuota_2020.columns = columnas\n",
        "Cuota_2020 = Cuota_2020.drop(0)\n",
        "print(Cuota_2020)"
      ]
    },
    {
      "cell_type": "markdown",
      "metadata": {
        "id": "8jvicpScbB_U"
      },
      "source": [
        "##Valores de cuotas para el año 2021"
      ]
    },
    {
      "cell_type": "code",
      "execution_count": 48,
      "metadata": {
        "colab": {
          "base_uri": "https://localhost:8080/"
        },
        "id": "PedUPstIbEcV",
        "outputId": "2fef9053-6d13-4619-b683-5f9cc70de8b1"
      },
      "outputs": [
        {
          "name": "stdout",
          "output_type": "stream",
          "text": [
            "          Fecha      Cuota\n",
            "1    2021-01-01  54.549,80\n",
            "2    2021-01-02  54.549,80\n",
            "3    2021-01-03  54.549,80\n",
            "4    2021-01-04  54.739,13\n",
            "5    2021-01-05  54.572,20\n",
            "..          ...        ...\n",
            "361  2021-12-27  66.073,68\n",
            "362  2021-12-28  66.074,83\n",
            "363  2021-12-29  66.039,98\n",
            "364  2021-12-30  65.588,76\n",
            "365  2021-12-31  65.673,90\n",
            "\n",
            "[365 rows x 2 columns]\n"
          ]
        }
      ],
      "source": [
        "start_row = 6852\n",
        "end_row = 7218\n",
        "num_rows = end_row - start_row\n",
        "\n",
        "Cuota_2021 = pd.read_csv('vcfA2002-2024.csv', sep = \";\",  decimal = \",\", skiprows=start_row - 1, nrows=num_rows)\n",
        "Cuota_2021 = Cuota_2021.reset_index()      #Fecha está siendo considerada como un índice, por lo que debe volver a convertirse en una columna\n",
        "# print(Cuota_2021.columns)             #Se corrieron todas las columnas a la derecha, por lo tanto el valor de la cuota de hábitat se encuentra en \"Unnamed: 4\"\n",
        "columnas_a_eliminar = ['Fecha', 'CAPITAL', 'Unnamed: 2', 'CUPRUM','HABITAT', 'Unnamed: 6', 'MODELO', 'PLANVITAL', 'PROVIDA','Unnamed: 8', 'Unnamed: 10', 'Unnamed: 12', 'UNO']\n",
        "Cuota_2021 = Cuota_2021.drop(columnas_a_eliminar, axis = 1)\n",
        "columnas = ['Fecha', 'Cuota']\n",
        "Cuota_2021.columns = columnas\n",
        "Cuota_2021 = Cuota_2021.drop(0)\n",
        "print(Cuota_2021)"
      ]
    },
    {
      "cell_type": "markdown",
      "metadata": {
        "id": "DHkLZrhqbWCc"
      },
      "source": [
        "##Valores de cuotas para el año 2022"
      ]
    },
    {
      "cell_type": "code",
      "execution_count": 49,
      "metadata": {
        "colab": {
          "base_uri": "https://localhost:8080/"
        },
        "id": "LtdNQZhIbYcr",
        "outputId": "318aa62a-b8cb-4b30-d899-a65f9aacc915"
      },
      "outputs": [
        {
          "name": "stdout",
          "output_type": "stream",
          "text": [
            "          Fecha      Cuota\n",
            "1    2022-01-01  65.673,90\n",
            "2    2022-01-02  65.673,90\n",
            "3    2022-01-03  65.460,01\n",
            "4    2022-01-04  65.948,43\n",
            "5    2022-01-05  65.954,70\n",
            "..          ...        ...\n",
            "361  2022-12-27  59.763,81\n",
            "362  2022-12-28  59.560,70\n",
            "363  2022-12-29  58.444,35\n",
            "364  2022-12-30  58.888,59\n",
            "365  2022-12-31  58.888,59\n",
            "\n",
            "[365 rows x 2 columns]\n"
          ]
        }
      ],
      "source": [
        "start_row = 7222\n",
        "end_row = 7588\n",
        "num_rows = end_row - start_row\n",
        "\n",
        "Cuota_2022 = pd.read_csv('vcfA2002-2024.csv', sep = \";\",  decimal = \",\", skiprows=start_row - 1, nrows=num_rows)\n",
        "Cuota_2022 = Cuota_2022.reset_index()      #Fecha está siendo considerada como un índice, por lo que debe volver a convertirse en una columna\n",
        "# print(Cuota_2022.columns)             #Se corrieron todas las columnas a la derecha, por lo tanto el valor de la cuota de hábitat se encuentra en \"Unnamed: 4\"\n",
        "columnas_a_eliminar = ['Fecha', 'CAPITAL', 'Unnamed: 2', 'CUPRUM','HABITAT', 'Unnamed: 6', 'MODELO', 'PLANVITAL', 'PROVIDA','Unnamed: 8', 'Unnamed: 10', 'Unnamed: 12', 'UNO']\n",
        "Cuota_2022 = Cuota_2022.drop(columnas_a_eliminar, axis = 1)\n",
        "columnas = ['Fecha', 'Cuota']\n",
        "Cuota_2022.columns = columnas\n",
        "Cuota_2022 = Cuota_2022.drop(0)\n",
        "print(Cuota_2022)"
      ]
    },
    {
      "cell_type": "markdown",
      "metadata": {
        "id": "t7RgfpJ7bm2O"
      },
      "source": [
        "##Valores de cuotas para el año 2023"
      ]
    },
    {
      "cell_type": "code",
      "execution_count": 50,
      "metadata": {
        "colab": {
          "base_uri": "https://localhost:8080/"
        },
        "id": "og0PIekDbo9o",
        "outputId": "26b7269a-d869-42eb-f9c1-f026c6fd6795"
      },
      "outputs": [
        {
          "name": "stdout",
          "output_type": "stream",
          "text": [
            "          Fecha      Cuota\n",
            "1    2023-01-01  58.888,59\n",
            "2    2023-01-02  58.888,59\n",
            "3    2023-01-03  58.655,36\n",
            "4    2023-01-04  58.383,78\n",
            "5    2023-01-05  58.816,99\n",
            "..          ...        ...\n",
            "361  2023-12-27  66.286,30\n",
            "362  2023-12-28  66.042,93\n",
            "363  2023-12-29  66.254,19\n",
            "364  2023-12-30  66.254,19\n",
            "365  2023-12-31  66.254,19\n",
            "\n",
            "[365 rows x 2 columns]\n"
          ]
        }
      ],
      "source": [
        "start_row = 7592\n",
        "end_row = 7958\n",
        "num_rows = end_row - start_row\n",
        "\n",
        "Cuota_2023 = pd.read_csv('vcfA2002-2024.csv', sep = \";\",  decimal = \",\", skiprows=start_row - 1, nrows=num_rows)\n",
        "Cuota_2023 = Cuota_2023.reset_index()      #Fecha está siendo considerada como un índice, por lo que debe volver a convertirse en una columna\n",
        "# print(Cuota_2023.columns)             #Se corrieron todas las columnas a la derecha, por lo tanto el valor de la cuota de hábitat se encuentra en \"Unnamed: 4\"\n",
        "columnas_a_eliminar = ['Fecha', 'CAPITAL', 'Unnamed: 2', 'CUPRUM','HABITAT', 'Unnamed: 6', 'MODELO', 'PLANVITAL', 'PROVIDA','Unnamed: 8', 'Unnamed: 10', 'Unnamed: 12', 'UNO']\n",
        "Cuota_2023 = Cuota_2023.drop(columnas_a_eliminar, axis = 1)\n",
        "columnas = ['Fecha', 'Cuota']\n",
        "Cuota_2023.columns = columnas\n",
        "Cuota_2023 = Cuota_2023.drop(0)\n",
        "print(Cuota_2023)"
      ]
    },
    {
      "cell_type": "markdown",
      "metadata": {
        "id": "eHmbL5J4b7TU"
      },
      "source": [
        "##Valores de cuota del año 2024 hasta el mes de febrero"
      ]
    },
    {
      "cell_type": "code",
      "execution_count": 51,
      "metadata": {
        "colab": {
          "base_uri": "https://localhost:8080/"
        },
        "id": "yMGZBCWvcJqh",
        "outputId": "8b69218a-9939-4810-ad43-bbe0465af3e1"
      },
      "outputs": [
        {
          "name": "stdout",
          "output_type": "stream",
          "text": [
            "         Fecha      Cuota\n",
            "1   2024-01-01  66.254,19\n",
            "2   2024-01-02  65.773,73\n",
            "3   2024-01-03  65.457,75\n",
            "4   2024-01-04  65.207,68\n",
            "5   2024-01-05  64.858,96\n",
            "..         ...        ...\n",
            "21  2024-03-21  73.044,05\n",
            "22  2024-03-22  73.151,97\n",
            "23  2024-03-23  73.151,97\n",
            "24  2024-03-24  73.151,97\n",
            "25  2024-03-25  73.446,81\n",
            "\n",
            "[85 rows x 2 columns]\n"
          ]
        }
      ],
      "source": [
        "#Año 2024 meses de enero y febrero\n",
        "\n",
        "start_row = 7962\n",
        "end_row = 8023\n",
        "num_rows = end_row - start_row\n",
        "\n",
        "Cuota_2024_1 = pd.read_csv('vcfA2002-2024.csv', sep = \";\",  decimal = \",\", skiprows=start_row - 1, nrows=num_rows)\n",
        "Cuota_2024_1 = Cuota_2024_1.reset_index()      #Fecha está siendo considerada como un índice, por lo que debe volver a convertirse en una columna\n",
        "# print(Cuota_2024.columns)             #Se corrieron todas las columnas a la derecha, por lo tanto el valor de la cuota de hábitat se encuentra en \"Unnamed: 4\"\n",
        "columnas_a_eliminar = ['Fecha', 'CAPITAL', 'Unnamed: 2', 'CUPRUM','HABITAT', 'Unnamed: 6', 'MODELO', 'PLANVITAL', 'PROVIDA','Unnamed: 8', 'Unnamed: 10', 'Unnamed: 12', 'UNO']\n",
        "Cuota_2024_1 = Cuota_2024_1.drop(columnas_a_eliminar, axis = 1)\n",
        "columnas = ['Fecha', 'Cuota']\n",
        "Cuota_2024_1.columns = columnas\n",
        "Cuota_2024_1 = Cuota_2024_1.drop(0)\n",
        "# print(Cuota_2024_1.head(5))\n",
        "\n",
        "start_row = 8027\n",
        "end_row = 8053\n",
        "num_rows = end_row - start_row\n",
        "\n",
        "Cuota_2024_2 = pd.read_csv('vcfA2002-2024.csv', sep = \";\",  decimal = \",\", skiprows=start_row - 1, nrows=num_rows)\n",
        "Cuota_2024_2 = Cuota_2024_2.reset_index()      #Fecha está siendo considerada como un índice, por lo que debe volver a convertirse en una columna\n",
        "# print(Cuota_2024.columns)             #Se corrieron todas las columnas a la derecha, por lo tanto el valor de la cuota de hábitat se encuentra en \"Unnamed: 4\"\n",
        "columnas_a_eliminar = ['Fecha', 'CAPITAL', 'Unnamed: 2', 'CUPRUM','HABITAT', 'Unnamed: 6', 'MODELO', 'PLANVITAL', 'PROVIDA','Unnamed: 8', 'Unnamed: 10', 'Unnamed: 12', 'UNO']\n",
        "Cuota_2024_2 = Cuota_2024_2.drop(columnas_a_eliminar, axis = 1)\n",
        "columnas = ['Fecha', 'Cuota']\n",
        "Cuota_2024_2.columns = columnas\n",
        "Cuota_2024_2 = Cuota_2024_2.drop(0)\n",
        "# print(Cuota_2024_2.tail(5))\n",
        "\n",
        "Cuota_2024 = pd.concat([Cuota_2024_1, Cuota_2024_2], axis = 0)\n",
        "print(Cuota_2024)"
      ]
    },
    {
      "cell_type": "markdown",
      "metadata": {
        "id": "BfsXVJQRcbWF"
      },
      "source": [
        "##Concatenación de la información"
      ]
    },
    {
      "cell_type": "code",
      "execution_count": 52,
      "metadata": {
        "colab": {
          "base_uri": "https://localhost:8080/"
        },
        "id": "rJRQ1lcCcgrg",
        "outputId": "28e4d0e0-17b9-422a-fcac-47667383c03e"
      },
      "outputs": [
        {
          "name": "stdout",
          "output_type": "stream",
          "text": [
            "           Fecha  Cuota\n",
            "0     2002-08-01  10000\n",
            "1     2002-08-02  10000\n",
            "2     2002-08-03  10000\n",
            "3     2002-08-04  10000\n",
            "4     2002-08-05  10000\n",
            "...          ...    ...\n",
            "7902  2024-03-21  73044\n",
            "7903  2024-03-22  73151\n",
            "7904  2024-03-23  73151\n",
            "7905  2024-03-24  73151\n",
            "7906  2024-03-25  73446\n",
            "\n",
            "[7907 rows x 2 columns]\n"
          ]
        }
      ],
      "source": [
        "import csv\n",
        "\n",
        "valor_cuota1 = pd.concat([Cuota_2002, Cuota_2003, Cuota_2004, Cuota_2005, Cuota_2006, Cuota_2007, Cuota_2008, Cuota_2009, Cuota_2010, Cuota_2011, Cuota_2012, Cuota_2013], axis = 0)\n",
        "valor_cuota2 = pd.concat([Cuota_2014, Cuota_2015, Cuota_2016, Cuota_2017, Cuota_2018, Cuota_2019, Cuota_2020, Cuota_2021, Cuota_2022, Cuota_2023, Cuota_2024], axis = 0)\n",
        "valor_cuota = pd.concat([valor_cuota1, valor_cuota2], axis = 0)\n",
        "valor_cuota = valor_cuota.reset_index()                   #Reinica el índice\n",
        "valor_cuota = valor_cuota.drop(['index'], axis = 1)       #Elimina el antiguo índice\n",
        "valor_cuota['Cuota'] = valor_cuota['Cuota'].str.replace(r',\\d+', '', regex=True)          #Reemplaza la coma y los valores que están después de la coma\n",
        "valor_cuota['Cuota'] = valor_cuota['Cuota'].str.replace('.','')                                        #Elimina el punto como separador de miles \n",
        "print(valor_cuota)\n",
        "\n"
      ]
    },
    {
      "cell_type": "code",
      "execution_count": 53,
      "metadata": {},
      "outputs": [],
      "source": [
        "valor_cuota['Open'] =  valor_cuota['Close']  = valor_cuota['Cuota'][0]\n",
        "\n",
        "# Actualizar los valores de las columnas según la lógica descrita\n",
        "for i in range(1, len(valor_cuota)):\n",
        "    valor_cuota.loc[i, 'Open'] = valor_cuota.loc[i - 1, 'Close']\n",
        "    valor_cuota.loc[i, 'Close'] = valor_cuota.loc[i, 'Cuota']\n",
        "\n",
        "valor_cuota['High'] = valor_cuota.apply(lambda row: max(row['Open'], row['Close']), axis=1)\n",
        "valor_cuota['Low'] = valor_cuota.apply(lambda row: min(row['Open'], row['Close']), axis=1)\n",
        "valor_cuota = valor_cuota.drop(columns = {'Cuota'})                                           #Elimina la columna Cuota\n",
        "valor_cuota['Volume'] = 0\n",
        "valor_cuota.rename(columns = {'Fecha': 'Date'}, inplace = True)                               #Cambia el nombre de la columna fecha por Date\n",
        "orden_columnas = ['Date','Open', 'High', 'Low', 'Close', 'Volume']\n",
        "valor_cuota = valor_cuota[orden_columnas]\n",
        "\n",
        "valor_cuota.to_csv('Habitat-A.csv', index = False, quoting=csv.QUOTE_MINIMAL, sep = \",\")"
      ]
    }
  ],
  "metadata": {
    "colab": {
      "provenance": []
    },
    "kernelspec": {
      "display_name": "Python 3",
      "name": "python3"
    },
    "language_info": {
      "codemirror_mode": {
        "name": "ipython",
        "version": 3
      },
      "file_extension": ".py",
      "mimetype": "text/x-python",
      "name": "python",
      "nbconvert_exporter": "python",
      "pygments_lexer": "ipython3",
      "version": "3.11.5"
    }
  },
  "nbformat": 4,
  "nbformat_minor": 0
}
